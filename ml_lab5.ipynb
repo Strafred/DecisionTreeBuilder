{
 "cells": [
  {
   "cell_type": "markdown",
   "id": "5377742c-64f6-4eb4-907c-84fc4148c5c1",
   "metadata": {},
   "source": [
    "# Лабораторная работа 5. Деревья решений"
   ]
  },
  {
   "cell_type": "markdown",
   "id": "a01f6fec-caa4-453f-a6b0-9b31ef644183",
   "metadata": {},
   "source": [
    "### Задание. Построить дерево решений.\n",
    "Необходимо для датасета из лекции \"Состоится ли игра?\" построить дерево решений."
   ]
  },
  {
   "cell_type": "markdown",
   "id": "c78bce25-18a4-4db2-b870-cbbdf35976a8",
   "metadata": {},
   "source": [
    "Напишите и протестируйте функции вычисления энтропии (`entropy`) и прироста информации (`information_gain`): "
   ]
  },
  {
   "cell_type": "markdown",
   "id": "240d2f82-1665-4a0e-8b35-19f12dc3790c",
   "metadata": {},
   "source": [
    "Создайте датасет \"Состоится ли игра?\" (вручную или прочитайте из файла):"
   ]
  },
  {
   "cell_type": "code",
   "execution_count": 16,
   "outputs": [],
   "source": [
    "import graphviz\n",
    "import numpy as np\n",
    "import pandas as pd"
   ],
   "metadata": {
    "collapsed": false,
    "ExecuteTime": {
     "end_time": "2024-02-24T18:29:46.090364100Z",
     "start_time": "2024-02-24T18:29:46.064359200Z"
    }
   },
   "id": "2a4118c6e89ccff"
  },
  {
   "cell_type": "markdown",
   "source": [
    "Напишите функцию построения дерева решений с помощью рекурсивных вызовов подготовленных функций:"
   ],
   "metadata": {
    "collapsed": false
   },
   "id": "cbe51eea-c291-444e-b6da-b26a6a0f36d0"
  },
  {
   "cell_type": "code",
   "execution_count": 17,
   "outputs": [],
   "source": [
    "def entropy(probabilities):\n",
    "    probabilities = np.array(probabilities)\n",
    "    mask = np.isinf(np.log2(probabilities))\n",
    "    probabilities_log = np.where(mask, 0, np.log2(probabilities))\n",
    "    return -np.sum(probabilities * probabilities_log)\n",
    "\n",
    "def information_gain(info_a, info_b):\n",
    "    return info_a - info_b\n",
    "\n",
    "def recursive_build_decision_tree(tree, df, target, parent_node=None, info_a=None, prev_value=None):\n",
    "    columns = df.columns[df.columns != target]\n",
    "    if info_a is None:\n",
    "        info_a = entropy(df[target].value_counts(normalize=True))\n",
    "    \n",
    "    if len(df[target].unique()) == 1:\n",
    "        node_name = str(len(df[target])) + \" \" + str(df[target].unique()[0])\n",
    "        tree.node(node_name)\n",
    "        if parent_node is not None:\n",
    "            tree.edge(parent_node, node_name, prev_value)\n",
    "        return\n",
    "\n",
    "    gains = {}\n",
    "    for column in columns:\n",
    "        probability_weights = df[column].value_counts(normalize=True)\n",
    "        info_b = 0\n",
    "        \n",
    "        for value in probability_weights.index:\n",
    "            target_values_probabilities = df[target][df[column] == value].value_counts(normalize=True)\n",
    "            info_b += probability_weights[value] * entropy(target_values_probabilities)\n",
    "        \n",
    "        gains[column] = information_gain(info_a, info_b)\n",
    "\n",
    "    best_feature = max(gains, key=gains.get)\n",
    "    tree.node(best_feature)\n",
    "    \n",
    "    if parent_node is not None:\n",
    "        tree.edge(parent_node, best_feature, prev_value)\n",
    "        \n",
    "    for value in df[best_feature].unique():\n",
    "        recursive_build_decision_tree(tree, df[df[best_feature] == value].drop(best_feature, axis=1), target, best_feature, info_a - gains[best_feature], value)\n",
    "        \n",
    "def draw_decision_tree(df, target_column_name):\n",
    "    tree = graphviz.Digraph('decision_tree')\n",
    "    recursive_build_decision_tree(tree, df, target_column_name)\n",
    "    tree.view()"
   ],
   "metadata": {
    "collapsed": false,
    "ExecuteTime": {
     "end_time": "2024-02-24T18:29:46.137352100Z",
     "start_time": "2024-02-24T18:29:46.075358700Z"
    }
   },
   "id": "37ded3e7-58fb-4b0b-9a9c-0b07f4cc5702"
  },
  {
   "cell_type": "markdown",
   "source": [
    "Постройте дерево решений для датасета \"Состоится ли игра?\":"
   ],
   "metadata": {
    "collapsed": false
   },
   "id": "f0b7f8f3-9fd0-4af9-ab7e-f92d8ddb300a"
  },
  {
   "cell_type": "markdown",
   "source": [
    "Визуализируйте построенное дерево (в любом виде):"
   ],
   "metadata": {
    "collapsed": false
   },
   "id": "d5534bf8-c3da-4571-9d7a-5141491a47f3"
  },
  {
   "cell_type": "code",
   "execution_count": 18,
   "outputs": [],
   "source": [
    "game_df = pd.read_csv(\"will_there_be_a_game.csv\", sep=\",\", encoding=\"windows-1251\")\n",
    "draw_decision_tree(game_df, \"Игра\")"
   ],
   "metadata": {
    "collapsed": false,
    "ExecuteTime": {
     "end_time": "2024-02-24T18:29:46.259422700Z",
     "start_time": "2024-02-24T18:29:46.088362400Z"
    }
   },
   "id": "d50688c0-e6f6-412e-aff8-9446ea9dc14e"
  },
  {
   "cell_type": "markdown",
   "source": [
    "Сравните полученные результаты с результатами функции из scikit-learn:"
   ],
   "metadata": {
    "collapsed": false
   },
   "id": "c42510b4-7dd1-4b87-be88-7a10c8f54683"
  },
  {
   "cell_type": "code",
   "execution_count": 19,
   "id": "33d52eb8-333d-45f6-af69-6e90c73a518a",
   "metadata": {
    "ExecuteTime": {
     "end_time": "2024-02-24T18:29:46.323425500Z",
     "start_time": "2024-02-24T18:29:46.261425Z"
    }
   },
   "outputs": [
    {
     "data": {
      "text/plain": "    Наблюдение  Температура  Влажность  Ветер\n0            2            0          0      1\n1            2            0          0      0\n2            1            0          0      1\n3            0            1          0      1\n4            0            2          1      1\n5            0            2          1      0\n6            1            2          1      0\n7            2            1          0      1\n8            2            2          1      1\n9            0            1          1      1\n10           2            1          1      0\n11           1            1          0      0\n12           1            0          1      1\n13           0            1          0      0",
      "text/html": "<div>\n<style scoped>\n    .dataframe tbody tr th:only-of-type {\n        vertical-align: middle;\n    }\n\n    .dataframe tbody tr th {\n        vertical-align: top;\n    }\n\n    .dataframe thead th {\n        text-align: right;\n    }\n</style>\n<table border=\"1\" class=\"dataframe\">\n  <thead>\n    <tr style=\"text-align: right;\">\n      <th></th>\n      <th>Наблюдение</th>\n      <th>Температура</th>\n      <th>Влажность</th>\n      <th>Ветер</th>\n    </tr>\n  </thead>\n  <tbody>\n    <tr>\n      <th>0</th>\n      <td>2</td>\n      <td>0</td>\n      <td>0</td>\n      <td>1</td>\n    </tr>\n    <tr>\n      <th>1</th>\n      <td>2</td>\n      <td>0</td>\n      <td>0</td>\n      <td>0</td>\n    </tr>\n    <tr>\n      <th>2</th>\n      <td>1</td>\n      <td>0</td>\n      <td>0</td>\n      <td>1</td>\n    </tr>\n    <tr>\n      <th>3</th>\n      <td>0</td>\n      <td>1</td>\n      <td>0</td>\n      <td>1</td>\n    </tr>\n    <tr>\n      <th>4</th>\n      <td>0</td>\n      <td>2</td>\n      <td>1</td>\n      <td>1</td>\n    </tr>\n    <tr>\n      <th>5</th>\n      <td>0</td>\n      <td>2</td>\n      <td>1</td>\n      <td>0</td>\n    </tr>\n    <tr>\n      <th>6</th>\n      <td>1</td>\n      <td>2</td>\n      <td>1</td>\n      <td>0</td>\n    </tr>\n    <tr>\n      <th>7</th>\n      <td>2</td>\n      <td>1</td>\n      <td>0</td>\n      <td>1</td>\n    </tr>\n    <tr>\n      <th>8</th>\n      <td>2</td>\n      <td>2</td>\n      <td>1</td>\n      <td>1</td>\n    </tr>\n    <tr>\n      <th>9</th>\n      <td>0</td>\n      <td>1</td>\n      <td>1</td>\n      <td>1</td>\n    </tr>\n    <tr>\n      <th>10</th>\n      <td>2</td>\n      <td>1</td>\n      <td>1</td>\n      <td>0</td>\n    </tr>\n    <tr>\n      <th>11</th>\n      <td>1</td>\n      <td>1</td>\n      <td>0</td>\n      <td>0</td>\n    </tr>\n    <tr>\n      <th>12</th>\n      <td>1</td>\n      <td>0</td>\n      <td>1</td>\n      <td>1</td>\n    </tr>\n    <tr>\n      <th>13</th>\n      <td>0</td>\n      <td>1</td>\n      <td>0</td>\n      <td>0</td>\n    </tr>\n  </tbody>\n</table>\n</div>"
     },
     "execution_count": 19,
     "metadata": {},
     "output_type": "execute_result"
    }
   ],
   "source": [
    "from sklearn import tree\n",
    "from sklearn.tree import DecisionTreeClassifier\n",
    "from sklearn.preprocessing import LabelEncoder\n",
    "\n",
    "game_df = pd.read_csv(\"will_there_be_a_game.csv\", sep=\",\", encoding=\"windows-1251\")\n",
    "x = game_df.drop(\"Игра\", axis=1)\n",
    "x = x.apply(LabelEncoder().fit_transform)\n",
    "x"
   ]
  },
  {
   "cell_type": "code",
   "execution_count": 20,
   "outputs": [],
   "source": [
    "y = game_df[\"Игра\"]\n",
    "dec_tree = DecisionTreeClassifier()\n",
    "dec_tree.fit(x, y)\n",
    "tree = tree.export_graphviz(dec_tree, out_file=\"tree.dot\", feature_names=x.columns, class_names=[\"Да\", \"Нет\"], filled=True)"
   ],
   "metadata": {
    "collapsed": false,
    "ExecuteTime": {
     "end_time": "2024-02-24T18:29:46.323425500Z",
     "start_time": "2024-02-24T18:29:46.293425600Z"
    }
   },
   "id": "58392808e44d8ace"
  }
 ],
 "metadata": {
  "kernelspec": {
   "display_name": "Python 3 (ipykernel)",
   "language": "python",
   "name": "python3"
  },
  "language_info": {
   "codemirror_mode": {
    "name": "ipython",
    "version": 3
   },
   "file_extension": ".py",
   "mimetype": "text/x-python",
   "name": "python",
   "nbconvert_exporter": "python",
   "pygments_lexer": "ipython3",
   "version": "3.9.12"
  }
 },
 "nbformat": 4,
 "nbformat_minor": 5
}
